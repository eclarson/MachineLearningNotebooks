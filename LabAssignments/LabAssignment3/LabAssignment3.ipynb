{
 "cells": [
  {
   "cell_type": "markdown",
   "metadata": {},
   "source": [
    "# Lab Assignment Three: Extending Logistic Regression"
   ]
  },
  {
   "cell_type": "markdown",
   "metadata": {},
   "source": [
    "### Authors\n",
    "- Juliana Antonio\n",
    "- Xiaona Hang\n",
    "- Chuanqi Deng\n"
   ]
  },
  {
   "cell_type": "markdown",
   "metadata": {},
   "source": [
    "### 1. Preparation and Overview"
   ]
  },
  {
   "cell_type": "markdown",
   "metadata": {},
   "source": [
    "The \"Body Performance Data\" sourced from the [Korea Sports Promotion Foundation](https://www.bigdata-culture.kr/bigdata/user/data_market/detail.do?id=ace0aea7-5eee-48b9-b616-637365d665c1), available on Kaggle, comprises 13,393 rows and encompasses 12 features, such as age, gender, height, weight, and more. This dataset, meticulously curated, demonstrates the correlation between age and various exercise performance metrics, thereby providing insights into individual performance grades.\n",
    "\n",
    "Utilizing this rich dataset, the aim is to classify individuals into distinct performance grades: A (Best), B, C, and D (Worst), based on the aforementioned 12 features. This classification is pivotal for tailoring personalized training plans, catering to diverse needs and abilities. Consequently, gyms and rehabilitation centers stand to benefit significantly from leveraging predictive analytics to craft bespoke training plans, optimizing clients' progress and well-being.\n",
    "\n",
    "Beyond professional institutions, individuals themselves will be interested in understanding their body performance classification. Armed with this knowledge, they can make informed decisions regarding their fitness journey, setting realistic goals and embracing tailored approaches for holistic improvement.\n",
    "\n",
    "The deployment of a robust classification model is expected to achieve an accuracy of approximately 80%. By meeting this benchmark, the model ensures reliable predictions, empowering stakeholders to make data-driven decisions with confidence."
   ]
  },
  {
   "cell_type": "code",
   "execution_count": 5,
   "metadata": {},
   "outputs": [
    {
     "data": {
      "text/plain": [
       "((13393, 12), (13393, 8))"
      ]
     },
     "execution_count": 5,
     "metadata": {},
     "output_type": "execute_result"
    }
   ],
   "source": [
    "import matplotlib.pyplot as plt\n",
    "import numpy as np\n",
    "import pandas as pd\n",
    "from sklearn.decomposition import PCA\n",
    "from sklearn.metrics import accuracy_score\n",
    "from sklearn.model_selection import KFold, train_test_split\n",
    "from sklearn.preprocessing import StandardScaler\n",
    "from sklearn.svm import SVC\n",
    "from tqdm import tqdm\n",
    "\n",
    "raw_data = pd.read_csv(\"data/bodyPerformance.csv\")\n",
    "\n",
    "# preprocessing\n",
    "data = pd.get_dummies(raw_data, columns=['gender'],dtype=np.int8) # one-hot encoding for gender\n",
    "labels = data['class'].map(lambda c: ord(c) - ord('A')) # encode lables into integer\n",
    "data.drop(['class'], axis=1, inplace=True) # remove class column\n",
    "\n",
    "# scale\n",
    "scaler = StandardScaler()\n",
    "features = scaler.fit_transform(data)\n",
    "\n",
    "# PCA\n",
    "pca = PCA(8)\n",
    "pca_feature = pca.fit_transform(features)\n",
    "raw_data.shape, pca_feature.shape"
   ]
  },
  {
   "cell_type": "markdown",
   "metadata": {},
   "source": [
    "The dataset has one categorical feature, the gender. One-hot encoding is enployed to convert it into numerical data. Next, the lables/class is moved to another separate variable, lables. Then, the Standard Scaling and PCA are applied to mitigate the difference of multiple features reduce the number of features from 12 to 8."
   ]
  },
  {
   "cell_type": "code",
   "execution_count": 3,
   "metadata": {},
   "outputs": [
    {
     "data": {
      "text/html": [
       "<div>\n",
       "<style scoped>\n",
       "    .dataframe tbody tr th:only-of-type {\n",
       "        vertical-align: middle;\n",
       "    }\n",
       "\n",
       "    .dataframe tbody tr th {\n",
       "        vertical-align: top;\n",
       "    }\n",
       "\n",
       "    .dataframe thead th {\n",
       "        text-align: right;\n",
       "    }\n",
       "</style>\n",
       "<table border=\"1\" class=\"dataframe\">\n",
       "  <thead>\n",
       "    <tr style=\"text-align: right;\">\n",
       "      <th></th>\n",
       "      <th>0</th>\n",
       "      <th>1</th>\n",
       "      <th>2</th>\n",
       "      <th>3</th>\n",
       "      <th>4</th>\n",
       "      <th>5</th>\n",
       "      <th>6</th>\n",
       "      <th>7</th>\n",
       "    </tr>\n",
       "  </thead>\n",
       "  <tbody>\n",
       "    <tr>\n",
       "      <th>count</th>\n",
       "      <td>1.339300e+04</td>\n",
       "      <td>1.339300e+04</td>\n",
       "      <td>1.339300e+04</td>\n",
       "      <td>1.339300e+04</td>\n",
       "      <td>1.339300e+04</td>\n",
       "      <td>1.339300e+04</td>\n",
       "      <td>1.339300e+04</td>\n",
       "      <td>1.339300e+04</td>\n",
       "    </tr>\n",
       "    <tr>\n",
       "      <th>mean</th>\n",
       "      <td>-1.252058e-16</td>\n",
       "      <td>2.387398e-17</td>\n",
       "      <td>-2.546558e-17</td>\n",
       "      <td>4.827850e-17</td>\n",
       "      <td>-6.260288e-17</td>\n",
       "      <td>-2.652665e-19</td>\n",
       "      <td>-1.061066e-17</td>\n",
       "      <td>6.313342e-17</td>\n",
       "    </tr>\n",
       "    <tr>\n",
       "      <th>std</th>\n",
       "      <td>2.386378e+00</td>\n",
       "      <td>1.462662e+00</td>\n",
       "      <td>1.127011e+00</td>\n",
       "      <td>9.438121e-01</td>\n",
       "      <td>8.081770e-01</td>\n",
       "      <td>5.785046e-01</td>\n",
       "      <td>5.602344e-01</td>\n",
       "      <td>4.860709e-01</td>\n",
       "    </tr>\n",
       "    <tr>\n",
       "      <th>min</th>\n",
       "      <td>-5.041796e+00</td>\n",
       "      <td>-5.384663e+00</td>\n",
       "      <td>-7.437324e+00</td>\n",
       "      <td>-4.140902e+00</td>\n",
       "      <td>-4.012083e+00</td>\n",
       "      <td>-2.242237e+00</td>\n",
       "      <td>-5.062883e+00</td>\n",
       "      <td>-2.246422e+00</td>\n",
       "    </tr>\n",
       "    <tr>\n",
       "      <th>25%</th>\n",
       "      <td>-1.967484e+00</td>\n",
       "      <td>-1.012307e+00</td>\n",
       "      <td>-6.911124e-01</td>\n",
       "      <td>-6.042082e-01</td>\n",
       "      <td>-4.971976e-01</td>\n",
       "      <td>-3.845767e-01</td>\n",
       "      <td>-3.517389e-01</td>\n",
       "      <td>-3.142285e-01</td>\n",
       "    </tr>\n",
       "    <tr>\n",
       "      <th>50%</th>\n",
       "      <td>-8.995369e-01</td>\n",
       "      <td>1.073930e-01</td>\n",
       "      <td>5.143689e-02</td>\n",
       "      <td>1.506179e-02</td>\n",
       "      <td>7.247022e-03</td>\n",
       "      <td>1.665698e-02</td>\n",
       "      <td>8.867419e-03</td>\n",
       "      <td>-3.037003e-03</td>\n",
       "    </tr>\n",
       "    <tr>\n",
       "      <th>75%</th>\n",
       "      <td>2.360703e+00</td>\n",
       "      <td>1.072822e+00</td>\n",
       "      <td>7.628835e-01</td>\n",
       "      <td>6.133066e-01</td>\n",
       "      <td>5.253231e-01</td>\n",
       "      <td>3.905508e-01</td>\n",
       "      <td>3.792356e-01</td>\n",
       "      <td>3.000243e-01</td>\n",
       "    </tr>\n",
       "    <tr>\n",
       "      <th>max</th>\n",
       "      <td>6.506510e+00</td>\n",
       "      <td>7.782459e+00</td>\n",
       "      <td>1.473913e+01</td>\n",
       "      <td>4.345014e+00</td>\n",
       "      <td>1.360873e+01</td>\n",
       "      <td>3.636507e+00</td>\n",
       "      <td>5.873632e+00</td>\n",
       "      <td>6.967697e+00</td>\n",
       "    </tr>\n",
       "  </tbody>\n",
       "</table>\n",
       "</div>"
      ],
      "text/plain": [
       "                  0             1             2             3             4  \\\n",
       "count  1.339300e+04  1.339300e+04  1.339300e+04  1.339300e+04  1.339300e+04   \n",
       "mean  -1.252058e-16  2.387398e-17 -2.546558e-17  4.827850e-17 -6.260288e-17   \n",
       "std    2.386378e+00  1.462662e+00  1.127011e+00  9.438121e-01  8.081770e-01   \n",
       "min   -5.041796e+00 -5.384663e+00 -7.437324e+00 -4.140902e+00 -4.012083e+00   \n",
       "25%   -1.967484e+00 -1.012307e+00 -6.911124e-01 -6.042082e-01 -4.971976e-01   \n",
       "50%   -8.995369e-01  1.073930e-01  5.143689e-02  1.506179e-02  7.247022e-03   \n",
       "75%    2.360703e+00  1.072822e+00  7.628835e-01  6.133066e-01  5.253231e-01   \n",
       "max    6.506510e+00  7.782459e+00  1.473913e+01  4.345014e+00  1.360873e+01   \n",
       "\n",
       "                  5             6             7  \n",
       "count  1.339300e+04  1.339300e+04  1.339300e+04  \n",
       "mean  -2.652665e-19 -1.061066e-17  6.313342e-17  \n",
       "std    5.785046e-01  5.602344e-01  4.860709e-01  \n",
       "min   -2.242237e+00 -5.062883e+00 -2.246422e+00  \n",
       "25%   -3.845767e-01 -3.517389e-01 -3.142285e-01  \n",
       "50%    1.665698e-02  8.867419e-03 -3.037003e-03  \n",
       "75%    3.905508e-01  3.792356e-01  3.000243e-01  \n",
       "max    3.636507e+00  5.873632e+00  6.967697e+00  "
      ]
     },
     "execution_count": 3,
     "metadata": {},
     "output_type": "execute_result"
    }
   ],
   "source": [
    "# breakdown of the variables\n",
    "pd.DataFrame(pca_feature).describe()"
   ]
  },
  {
   "cell_type": "code",
   "execution_count": 2,
   "metadata": {},
   "outputs": [
    {
     "name": "stderr",
     "output_type": "stream",
     "text": [
      "100%|██████████| 8/8 [01:58<00:00, 14.79s/it]\n"
     ]
    }
   ],
   "source": [
    "# test different folds of cross validation\n",
    "cross_validation_accs = {}\n",
    "# n fold cross-validation, n: 3-10\n",
    "for n in tqdm(range(3, 11)):\n",
    "    # n-fold cross-validation\n",
    "    cross_validator = KFold(n_splits=n)\n",
    "    split_indices = cross_validator.split(pca_feature, labels)\n",
    "    \n",
    "    # training and testing\n",
    "    avg_accs = []\n",
    "    for train_indices, test_indices in split_indices:\n",
    "        X_train, y_train = pca_feature[train_indices], labels[train_indices]\n",
    "        X_test, y_test = pca_feature[test_indices], labels[test_indices]\n",
    "        \n",
    "        classifier = SVC()\n",
    "        classifier.fit(X_train, y_train)\n",
    "        y_pred = classifier.predict(X_test)\n",
    "        acc = accuracy_score(y_test, y_pred)\n",
    "        avg_accs.append(acc)\n",
    "    \n",
    "    cross_validation_accs[n] = avg_accs"
   ]
  },
  {
   "cell_type": "code",
   "execution_count": 15,
   "metadata": {},
   "outputs": [
    {
     "data": {
      "image/png": "[encoded data removed]",
      "text/plain": [
       "<Figure size 640x480 with 2 Axes>"
      ]
     },
     "metadata": {},
     "output_type": "display_data"
    }
   ],
   "source": [
    "# plot cross validation accuracies\n",
    "plt.boxplot(cross_validation_accs.values(), labels=list(range(3, 11)))\n",
    "ax = plt.twiny()\n",
    "avg_accs = [np.mean(accs) for accs in cross_validation_accs.values()]\n",
    "ax.plot(avg_accs, label='mean accuracies')\n",
    "ax.set_axis_off()\n",
    "ax.legend(loc = 'upper left')\n",
    "plt.title(\"Cross Validation Accuracies\");"
   ]
  },
  {
   "cell_type": "markdown",
   "metadata": {},
   "source": [
    "According to the graph above, it is clear that the 7-fold cross-validation has the best accuracies, considering the stablity and median accuracy. Hence, a rougly 86/14 split would be ideal for this dataset."
   ]
  },
  {
   "cell_type": "code",
   "execution_count": 4,
   "metadata": {},
   "outputs": [],
   "source": [
    "# use the optimal number of folds for the following analysis\n",
    "cross_validator = KFold(n_splits=7)\n",
    "split_indices = cross_validator.split(pca_feature, labels)"
   ]
  },
  {
   "cell_type": "markdown",
   "metadata": {},
   "source": [
    "References:\n",
    "1. https://www.kaggle.com/datasets/kukuroo3/body-performance-data\n",
    "2. https://www.bigdata-culture.kr/bigdata/user/data_market/detail.do?id=ace0aea7-5eee-48b9-b616-637365d665c1"
   ]
  }
 ],
 "metadata": {
  "kernelspec": {
   "display_name": "Python 3 (ipykernel)",
   "language": "python",
   "name": "python3"
  },
  "language_info": {
   "codemirror_mode": {
    "name": "ipython",
    "version": 3
   },
   "file_extension": ".py",
   "mimetype": "text/x-python",
   "name": "python",
   "nbconvert_exporter": "python",
   "pygments_lexer": "ipython3",
   "version": "3.11.5"
  }
 },
 "nbformat": 4,
 "nbformat_minor": 2
}
